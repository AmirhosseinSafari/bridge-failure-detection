{
 "cells": [
  {
   "cell_type": "markdown",
   "metadata": {},
   "source": [
    "# Imports"
   ]
  },
  {
   "cell_type": "code",
   "execution_count": 46,
   "metadata": {},
   "outputs": [],
   "source": [
    "# Imports\n",
    "import pandas as pd\n",
    "import seaborn as sns\n",
    "import numpy as np\n",
    "import matplotlib.pyplot as plt\n",
    "import os\n",
    "import pywt"
   ]
  },
  {
   "cell_type": "code",
   "execution_count": 47,
   "metadata": {},
   "outputs": [],
   "source": [
    "from IPython.display import clear_output"
   ]
  },
  {
   "cell_type": "markdown",
   "metadata": {},
   "source": [
    "# Getting csv files"
   ]
  },
  {
   "cell_type": "code",
   "execution_count": 48,
   "metadata": {},
   "outputs": [
    {
     "data": {
      "text/plain": [
       "['5_When_rebuilding.csv',\n",
       " '1_After_reconstruction.csv',\n",
       " '1_When_rebuilding.csv',\n",
       " '2_Before_renovation.csv',\n",
       " '6_After_reconstruction.csv',\n",
       " '2_When_rebuilding.csv',\n",
       " '4_Before_renovation.csv',\n",
       " '5_After_reconstruction.csv',\n",
       " '3_When_rebuilding.csv',\n",
       " '3_After_reconstruction.csv',\n",
       " '6_Before_renovation.csv',\n",
       " '4_After_reconstruction.csv',\n",
       " '1_Before_renovation.csv',\n",
       " '3_Before_renovation.csv',\n",
       " '6_When_rebuilding.csv',\n",
       " '2_After_reconstruction.csv',\n",
       " '5_Before_renovation.csv',\n",
       " '4_When_rebuilding.csv']"
      ]
     },
     "execution_count": 48,
     "metadata": {},
     "output_type": "execute_result"
    }
   ],
   "source": [
    "# Geting csv files\n",
    "list_of_files = os.listdir(\"./\")\n",
    "csv_files = []\n",
    "\n",
    "for _file in list_of_files:\n",
    "    if _file.endswith(\".csv\"):\n",
    "        csv_files.append(_file)\n",
    "\n",
    "csv_files"
   ]
  },
  {
   "cell_type": "markdown",
   "metadata": {},
   "source": [
    "# Functions"
   ]
  },
  {
   "cell_type": "code",
   "execution_count": 49,
   "metadata": {},
   "outputs": [],
   "source": [
    "def slice_signal_by_10_seconds(signal, sampling_rate):\n",
    "    # Calculate the number of samples corresponding to 10 seconds\n",
    "    ten_sec_samples = int(10 * sampling_rate)\n",
    "    \n",
    "    # Slice the signal into chunks of 10 seconds\n",
    "    signal_chunks = [signal[i:i + ten_sec_samples] for i in range(0, len(signal), ten_sec_samples)]\n",
    "    \n",
    "    return signal_chunks"
   ]
  },
  {
   "cell_type": "code",
   "execution_count": 50,
   "metadata": {},
   "outputs": [],
   "source": [
    "def extract_train_out_signal_chunks(signal, sampling_rate):\n",
    "    '''\n",
    "    Returns: The first 10-second signal and last 30-second signal which\n",
    "                sliced by 10 seconds\n",
    "    '''\n",
    "    # Calculate the number of samples corresponding to 10 seconds\n",
    "    ten_sec_samples = int(10 * sampling_rate)\n",
    "    \n",
    "    # Calculate the number of samples corresponding to 30 seconds\n",
    "    thirty_sec_samples = int(30 * sampling_rate)\n",
    "    \n",
    "    # Get the first 10 seconds of the signal\n",
    "    first_10_sec = signal[:ten_sec_samples]\n",
    "    \n",
    "    # Get the last 30 seconds of the signal\n",
    "    last_30_sec = signal[-thirty_sec_samples:]\n",
    "    \n",
    "    # Split the last 30 seconds into chunks of 10 seconds\n",
    "    chunks_last_30_sec = slice_signal_by_10_seconds(last_30_sec, sampling_rate)\n",
    "    \n",
    "    return first_10_sec, chunks_last_30_sec"
   ]
  },
  {
   "cell_type": "code",
   "execution_count": 51,
   "metadata": {},
   "outputs": [],
   "source": [
    "def dir_creator(csv_file_name):\n",
    "    '''\n",
    "    Creating directoies for each column of csv files\n",
    "        to save heatmaps into them\n",
    "    '''\n",
    "    sensor_number = csv_file_name.split('_')[0]\n",
    "    file_name = csv_file_name.split('.')[0]\n",
    "\n",
    "    # Define the sensor directory name\n",
    "    sensor_dir = f\"sensor_{sensor_number}\"\n",
    "\n",
    "    if not os.path.exists(sensor_dir):\n",
    "        os.mkdir(sensor_dir)\n",
    "    \n",
    "    # Change directory to the sensor directory\n",
    "    os.chdir(sensor_dir)\n",
    "    \n",
    "    # Create the main directory for the current file\n",
    "    if not os.path.exists(file_name):\n",
    "        os.mkdir(file_name)\n",
    "        os.mkdir(f\"{file_name}/train_out\")\n",
    "        os.mkdir(f\"{file_name}/train_in\")\n",
    "\n",
    "    # Change back to the original directory\n",
    "    os.chdir(\"..\")"
   ]
  },
  {
   "cell_type": "code",
   "execution_count": 52,
   "metadata": {},
   "outputs": [],
   "source": [
    "def save_heatmap(csv_file_name, column, counter, train_status):\n",
    "    '''\n",
    "    Saving plots in png format in their specific path\n",
    "    '''\n",
    "    no_ext_csv_file_name = csv_file_name.split('.')[0]\n",
    "    sensor_number = csv_file_name.split('_')[0]\n",
    "    sensor_dir = f\"sensor_{sensor_number}\"\n",
    "\n",
    "    # Save the plot with no padding or extra space\n",
    "    plt.axis('off')\n",
    "    path = f\"{sensor_dir}/{no_ext_csv_file_name}/{train_status}/{sensor_number}_{no_ext_csv_file_name}_{column}_{counter}.png\"\n",
    "    plt.savefig(path , bbox_inches='tight', pad_inches=0)\n",
    "    plt.close()"
   ]
  },
  {
   "cell_type": "code",
   "execution_count": 53,
   "metadata": {},
   "outputs": [],
   "source": [
    "def remove_five_zeros(arr):\n",
    "    \"\"\"Remove sequences of 5 successive zeros from an array.\"\"\"\n",
    "    result = []\n",
    "    zero_count = 0\n",
    "\n",
    "    for i in range(len(arr)):\n",
    "        if arr[i] == 0:\n",
    "            zero_count += 1\n",
    "        else:\n",
    "            if zero_count == 5:\n",
    "                result = result[:-5]  # Remove the last 5 zeros from the result\n",
    "            zero_count = 0\n",
    "            result.append(arr[i])\n",
    "        \n",
    "        # If we've reached the end and have exactly 5 zeros at the end\n",
    "        if i == len(arr) - 1 and zero_count == 5:\n",
    "            result = result[:-5]\n",
    "    \n",
    "    return np.array(result)"
   ]
  },
  {
   "cell_type": "code",
   "execution_count": 54,
   "metadata": {},
   "outputs": [],
   "source": [
    "def plot_cwt(coefficients_10s):\n",
    "    \"\"\"\n",
    "    Plots a one-dimensional signal.\n",
    "\n",
    "    Parameters:\n",
    "    - Coefficients of CWT transformation.\n",
    "    \"\"\"\n",
    "    # Desired size in pixels\n",
    "    width_px = 200\n",
    "    height_px = 200\n",
    "\n",
    "    # DPI (dots per inch)\n",
    "    dpi = 100\n",
    "\n",
    "    # Convert to inches\n",
    "    width_in = width_px / dpi\n",
    "    height_in = height_px / dpi\n",
    "\n",
    "    # Plot the CWT (10 seconds)\n",
    "    plt.figure(figsize=(width_in, height_in), dpi=dpi)\n",
    "    # plt.figure(figsize=(12, 8))\n",
    "    plt.imshow(np.abs(coefficients_10s), extent=[0, 10, 1, 128], cmap='jet', aspect='auto',\n",
    "            vmax=np.percentile(np.abs(coefficients_10s), 99))"
   ]
  },
  {
   "cell_type": "code",
   "execution_count": 55,
   "metadata": {},
   "outputs": [],
   "source": [
    "def plot_signal(signal, sampling_rate=825.8, title=\"Signal Plot\", xlabel=\"Time\", ylabel=\"Amplitude\"):\n",
    "    \"\"\"\n",
    "    Plots a one-dimensional signal.\n",
    "\n",
    "    Parameters:\n",
    "    - signal: List or array-like, the 1D signal to plot.\n",
    "    - sampling_rate: Sampling rate of the signal (default is 825.8).\n",
    "    - title: Title of the plot (default is \"Signal Plot\").\n",
    "    - xlabel: Label for the x-axis (default is \"Time\").\n",
    "    - ylabel: Label for the y-axis (default is \"Amplitude\").\n",
    "    \"\"\"\n",
    "    # Create time vector based on the length of the signal and the sampling rate\n",
    "    time = [i / sampling_rate for i in range(len(signal))]\n",
    "    \n",
    "    # Plot the signal\n",
    "    plt.figure(figsize=(10, 5))\n",
    "    plt.plot(time, signal, label='Signal', color='b', linewidth=1.5)\n",
    "    plt.title(title)\n",
    "    plt.xlabel(xlabel)\n",
    "    plt.ylabel(ylabel)\n",
    "    plt.grid(True)\n",
    "    plt.legend()\n",
    "    plt.show()"
   ]
  },
  {
   "cell_type": "code",
   "execution_count": 56,
   "metadata": {},
   "outputs": [
    {
     "data": {
      "text/plain": [
       "array([    0,     1,     2, ..., 78430, 78431, 78432])"
      ]
     },
     "execution_count": 56,
     "metadata": {},
     "output_type": "execute_result"
    }
   ],
   "source": [
    "# Reading files\n",
    "df = pd.read_csv(\"./1_After_reconstruction.csv\")\n",
    "\n",
    "# Nan to zero\n",
    "df = df.fillna(0)\n",
    "    \n",
    "# Loading each column of df into dict\n",
    "columns_dict = {}\n",
    "for col in df.columns:\n",
    "    columns_dict[col] = df[col].to_numpy()\n",
    "# Removing first incremental column\n",
    "columns_dict.pop('Unnamed: 0')"
   ]
  },
  {
   "cell_type": "code",
   "execution_count": 57,
   "metadata": {},
   "outputs": [],
   "source": [
    "# Initializing fs\n",
    "fs=825.8"
   ]
  },
  {
   "cell_type": "code",
   "execution_count": 58,
   "metadata": {},
   "outputs": [
    {
     "name": "stdout",
     "output_type": "stream",
     "text": [
      "Signal length in seconds: 50.99418745458949 (s)\n"
     ]
    },
    {
     "data": {
      "image/png": "[encoded data removed]",
      "text/plain": [
       "<Figure size 720x360 with 1 Axes>"
      ]
     },
     "metadata": {
      "needs_background": "light"
     },
     "output_type": "display_data"
    }
   ],
   "source": [
    "# Removing 5 successive zeros\n",
    "signal = remove_five_zeros(columns_dict['0'])\n",
    "\n",
    "# Getting the length of signal in seconds\n",
    "print(f\"Signal length in seconds: {len(signal)/fs} (s)\")\n",
    "plot_signal(signal)"
   ]
  },
  {
   "cell_type": "code",
   "execution_count": 59,
   "metadata": {},
   "outputs": [],
   "source": [
    "def zero_mean_normalization(signal):\n",
    "    \"\"\"\n",
    "    Normalizes a one-dimensional signal to have zero mean normalization.\n",
    "\n",
    "    Gets:\n",
    "    - One Dimensional signal\n",
    "\n",
    "    Returns:\n",
    "    - Zero mean normalized signal\n",
    "    \"\"\"\n",
    "    signal = np.array(signal)  \n",
    "    mean = np.mean(signal)     \n",
    "    std = np.std(signal)\n",
    "    \n",
    "    # Zero-mean normalization: (signal - mean) / std\n",
    "    normalized_signal = (signal - mean) / std\n",
    "    \n",
    "    return normalized_signal"
   ]
  },
  {
   "cell_type": "code",
   "execution_count": 60,
   "metadata": {},
   "outputs": [],
   "source": [
    "def continuous_wavelet_transform(signal, wavelet='cmor1.5-1.0'):\n",
    "    \"\"\"\n",
    "    Perform Continuous Wavelet Transform on a given signal with specified frequency range.\n",
    "    return: (coefficients, frequencies) tuple\n",
    "             - coefficients: 2D array of CWT coefficients\n",
    "             - frequencies: Corresponding frequencies for the scales\n",
    "    \"\"\"\n",
    "    # Continuous Wavelet Transform (CWT)\n",
    "    scales = np.arange(1, 128)\n",
    "\n",
    "    # Perform CWT on the signal\n",
    "    coefficients, frequencies = pywt.cwt(signal, scales, wavelet)\n",
    "        \n",
    "    return coefficients, frequencies"
   ]
  },
  {
   "cell_type": "markdown",
   "metadata": {},
   "source": [
    "# Creating heatmaps of CWT signals"
   ]
  },
  {
   "cell_type": "code",
   "execution_count": 61,
   "metadata": {},
   "outputs": [],
   "source": [
    "wavelet_name='cmor1.5-1.0'"
   ]
  },
  {
   "cell_type": "code",
   "execution_count": 62,
   "metadata": {},
   "outputs": [],
   "source": [
    "information = {}\n",
    "number_of_each_class_images = {\n",
    "    \"After\" : 0,\n",
    "    \"When\": 0,\n",
    "    \"Before\": 0\n",
    "}"
   ]
  },
  {
   "cell_type": "code",
   "execution_count": 63,
   "metadata": {},
   "outputs": [
    {
     "data": {
      "text/plain": [
       "54.0"
      ]
     },
     "execution_count": 63,
     "metadata": {},
     "output_type": "execute_result"
    }
   ],
   "source": [
    "len(columns_dict[col]) // fs - 40"
   ]
  },
  {
   "cell_type": "code",
   "execution_count": null,
   "metadata": {},
   "outputs": [],
   "source": [
    "# Reading and processing csv files\n",
    "for csv_file in csv_files:\n",
    "    # Reading files\n",
    "    df = pd.read_csv(csv_file)\n",
    "\n",
    "    # Nan to zero\n",
    "    df = df.fillna(0)\n",
    "    \n",
    "    # Loading each column of df into dict\n",
    "    columns_dict = {}\n",
    "    for col in df.columns:\n",
    "        columns_dict[col] = zero_mean_normalization(df[col].to_numpy())\n",
    "    # Removing first incremental column\n",
    "    columns_dict.pop('Unnamed: 0') \n",
    "\n",
    "    # Creating dirs\n",
    "    dir_creator(csv_file)\n",
    "\n",
    "    information[csv_file] = {}\n",
    "\n",
    "    for col in columns_dict.keys():\n",
    "        clear_output(wait=True)\n",
    "        heatmaps_counter = 1\n",
    "        information[csv_file][col] = {}\n",
    "        print(f\"Processing: {csv_file}:\\t Column {col}\")\n",
    "\n",
    "        # Removing 5 successive zeros\n",
    "        print(\"\\t\\t. \", end=\"\")\n",
    "        print(\"Removing 5 successive zeros\")\n",
    "        columns_dict[col] = remove_five_zeros(columns_dict[col])\n",
    "        \n",
    "        # Printing the amount of images when train is in (40 seconds is when train is out)\n",
    "        print(\"\\t\\t. \", end=\"\")\n",
    "        print(f\"Number of images when train is in: { int( (len(columns_dict[col]) // fs - 40) // 10 ) }\")\n",
    "        \n",
    "        # Recording information\n",
    "        information[csv_file][col][f\"Images count, train in\"] = int( (len(columns_dict[col]) // fs - 40) // 10 )\n",
    "        information[csv_file][col][f\"Images count, train out\"] = 4\n",
    "        information[csv_file][col][f\"Whole signal length in seconds\"] = int(len(columns_dict[col]) // fs)\n",
    "        class_name = csv_file.split('_')[1]\n",
    "        number_of_each_class_images[class_name] += 1\n",
    "\n",
    "        # handling train out part\n",
    "        first_10, last_30 = extract_train_out_signal_chunks(columns_dict[col], fs)\n",
    "        \n",
    "        # Calculating CWT transform and heatmap creation\n",
    "        print(\"\\t\\t. \", end=\"\")\n",
    "        print(\"Calculating CWT transform and heatmap creation\")\n",
    "        coefficients, frequencies = continuous_wavelet_transform(first_10, wavelet_name)\n",
    "        plot_cwt(coefficients)\n",
    "        save_heatmap(csv_file, col, heatmaps_counter, \"train_out\")\n",
    "        heatmaps_counter += 1\n",
    "        \n",
    "        for sig_chunk in last_30:\n",
    "            coefficients, frequencies = continuous_wavelet_transform(sig_chunk, wavelet_name)\n",
    "            plot_cwt(coefficients)\n",
    "            save_heatmap(csv_file, col, heatmaps_counter, \"train_out\")\n",
    "            heatmaps_counter += 1\n",
    "        \n",
    "        # handling train in part\n",
    "        train_in_sig_chunks = slice_signal_by_10_seconds(columns_dict[col][int(10*fs):int(-30*fs)], fs)\n",
    "        for sig_chunk in train_in_sig_chunks:\n",
    "            coefficients, frequencies = continuous_wavelet_transform(sig_chunk, wavelet_name)\n",
    "            plot_cwt(coefficients)\n",
    "            save_heatmap(csv_file, col, heatmaps_counter, \"train_in\")\n",
    "            heatmaps_counter += 1"
   ]
  }
 ],
 "metadata": {
  "kernelspec": {
   "display_name": "Python 3",
   "language": "python",
   "name": "python3"
  },
  "language_info": {
   "codemirror_mode": {
    "name": "ipython",
    "version": 3
   },
   "file_extension": ".py",
   "mimetype": "text/x-python",
   "name": "python",
   "nbconvert_exporter": "python",
   "pygments_lexer": "ipython3",
   "version": "3.10.12"
  }
 },
 "nbformat": 4,
 "nbformat_minor": 2
}
