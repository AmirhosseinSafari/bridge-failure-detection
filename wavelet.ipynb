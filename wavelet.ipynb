{
 "cells": [
  {
   "cell_type": "code",
   "execution_count": null,
   "metadata": {},
   "outputs": [],
   "source": [
    "import "
   ]
  },
  {
   "cell_type": "code",
   "execution_count": null,
   "metadata": {},
   "outputs": [],
   "source": [
    "def plot_wavelet(time, signal, scales, \n",
    "                 waveletname = 'cmor', \n",
    "                 cmap = plt.cm.seismic, \n",
    "                 title = 'Wavelet Transform (Power Spectrum) of signal', \n",
    "                 ylabel = 'Period (years)', \n",
    "                 xlabel = 'Time'):\n",
    "    \n",
    "    dt = time[1] - time[0]\n",
    "    [coefficients, frequencies] = pywt.cwt(signal, scales, waveletname, dt)\n",
    "    power = (abs(coefficients)) ** 2\n",
    "    period = 1. / frequencies\n",
    "    levels = [0.0625, 0.125, 0.25, 0.5, 1, 2, 4, 8]\n",
    "    contourlevels = np.log2(levels)\n",
    "    \n",
    "    fig, ax = plt.subplots(figsize=(15, 10))\n",
    "    im = ax.contourf(time, np.log2(period), np.log2(power), contourlevels, extend='both',cmap=cmap)\n",
    "    \n",
    "    ax.set_title(title, fontsize=20)\n",
    "    ax.set_ylabel(ylabel, fontsize=18)\n",
    "    ax.set_xlabel(xlabel, fontsize=18)\n",
    "    \n",
    "    yticks = 2**np.arange(np.ceil(np.log2(period.min())), np.ceil(np.log2(period.max())))\n",
    "    ax.set_yticks(np.log2(yticks))\n",
    "    ax.set_yticklabels(yticks)\n",
    "    ax.invert_yaxis()\n",
    "    ylim = ax.get_ylim()\n",
    "    ax.set_ylim(ylim[0], -1)\n",
    "    \n",
    "    cbar_ax = fig.add_axes([0.95, 0.5, 0.03, 0.25])\n",
    "    fig.colorbar(im, cax=cbar_ax, orientation=\"vertical\")\n",
    "    plt.show()"
   ]
  },
  {
   "cell_type": "code",
   "execution_count": null,
   "metadata": {},
   "outputs": [],
   "source": [
    "def plot_signal_plus_average(time, signal, average_over = 5):\n",
    "    fig, ax = plt.subplots(figsize=(15, 3))\n",
    "    time_ave, signal_ave = get_ave_values(time, signal, average_over)\n",
    "    ax.plot(time, signal, label='signal')\n",
    "    ax.plot(time_ave, signal_ave, label = 'time average (n={})'.format(5))\n",
    "    ax.set_xlim([time[0], time[-1]])\n",
    "    ax.set_ylabel('Signal Amplitude', fontsize=18)\n",
    "    ax.set_title('Signal + Time Average', fontsize=18)\n",
    "    ax.set_xlabel('Time', fontsize=18)\n",
    "    ax.legend()\n",
    "    plt.show()"
   ]
  },
  {
   "cell_type": "code",
   "execution_count": null,
   "metadata": {},
   "outputs": [],
   "source": [
    "def get_fft_values(y_values, T, N, f_s):\n",
    "    f_values = np.linspace(0.0, 1.0/(2.0*T), N//2)\n",
    "    fft_values_ = fft(y_values)\n",
    "    fft_values = 2.0/N * np.abs(fft_values_[0:N//2])\n",
    "    return f_values, fft_values\n",
    "\n",
    "def plot_fft_plus_power(time, signal):\n",
    "    dt = time[1] - time[0]\n",
    "    N = len(signal)\n",
    "    fs = 1/dt\n",
    "    \n",
    "    fig, ax = plt.subplots(figsize=(15, 3))\n",
    "    variance = np.std(signal)**2\n",
    "    f_values, fft_values = get_fft_values(signal, dt, N, fs)\n",
    "    fft_power = variance * abs(fft_values) ** 2     # FFT power spectrum\n",
    "    ax.plot(f_values, fft_values, 'r-', label='Fourier Transform')\n",
    "    ax.plot(f_values, fft_power, 'k--', linewidth=1, label='FFT Power Spectrum')\n",
    "    ax.set_xlabel('Frequency [Hz / year]', fontsize=18)\n",
    "    ax.set_ylabel('Amplitude', fontsize=18)\n",
    "    ax.legend()\n",
    "    plt.show()"
   ]
  },
  {
   "cell_type": "code",
   "execution_count": null,
   "metadata": {},
   "outputs": [],
   "source": [
    "dataset = \"http://paos.colorado.edu/research/wavelets/wave_idl/sst_nino3.dat\"\n",
    "df_nino = pd.read_table(dataset)\n",
    "N = df_nino.shape[0]\n",
    "t0=1871\n",
    "dt=0.25\n",
    "time = np.arange(0, N) * dt + t0\n",
    "signal = df_nino.values.squeeze()\n",
    "\n",
    "scales = np.arange(1, 128)\n",
    "plot_signal_plus_average(time, signal)\n",
    "plot_fft_plus_power(time, signal)\n",
    "plot_wavelet(time, signal, scales)"
   ]
  }
 ],
 "metadata": {
  "language_info": {
   "name": "python"
  }
 },
 "nbformat": 4,
 "nbformat_minor": 2
}
