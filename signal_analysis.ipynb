{
 "cells": [
  {
   "cell_type": "markdown",
   "metadata": {},
   "source": [
    "# Imports"
   ]
  },
  {
   "cell_type": "code",
   "execution_count": 24,
   "metadata": {},
   "outputs": [],
   "source": [
    "# Imports\n",
    "import pandas as pd\n",
    "import seaborn as sns\n",
    "import numpy as np\n",
    "import matplotlib.pyplot as plt\n",
    "import os\n",
    "import pywt"
   ]
  },
  {
   "cell_type": "code",
   "execution_count": 25,
   "metadata": {},
   "outputs": [],
   "source": [
    "from IPython.display import clear_output"
   ]
  },
  {
   "cell_type": "markdown",
   "metadata": {},
   "source": [
    "# Getting csv files"
   ]
  },
  {
   "cell_type": "code",
   "execution_count": 26,
   "metadata": {},
   "outputs": [
    {
     "data": {
      "text/plain": [
       "['5_When_rebuilding.csv',\n",
       " '1_After_reconstruction.csv',\n",
       " '1_When_rebuilding.csv',\n",
       " '2_Before_renovation.csv',\n",
       " '6_After_reconstruction.csv',\n",
       " '2_When_rebuilding.csv',\n",
       " '4_Before_renovation.csv',\n",
       " '5_After_reconstruction.csv',\n",
       " '3_When_rebuilding.csv',\n",
       " '3_After_reconstruction.csv',\n",
       " '6_Before_renovation.csv',\n",
       " '4_After_reconstruction.csv',\n",
       " '1_Before_renovation.csv',\n",
       " '3_Before_renovation.csv',\n",
       " '6_When_rebuilding.csv',\n",
       " '2_After_reconstruction.csv',\n",
       " '5_Before_renovation.csv',\n",
       " '4_When_rebuilding.csv']"
      ]
     },
     "execution_count": 26,
     "metadata": {},
     "output_type": "execute_result"
    }
   ],
   "source": [
    "# Geting csv files\n",
    "list_of_files = os.listdir(\"./\")\n",
    "csv_files = []\n",
    "\n",
    "for _file in list_of_files:\n",
    "    if _file.endswith(\".csv\"):\n",
    "        csv_files.append(_file)\n",
    "\n",
    "csv_files"
   ]
  },
  {
   "cell_type": "markdown",
   "metadata": {},
   "source": [
    "# Functions"
   ]
  },
  {
   "cell_type": "code",
   "execution_count": 27,
   "metadata": {},
   "outputs": [],
   "source": [
    "def slice_signal_by_10_seconds(signal, sampling_rate):\n",
    "    # Calculate the number of samples corresponding to 10 seconds\n",
    "    ten_sec_samples = 10 * sampling_rate\n",
    "    \n",
    "    # Slice the signal into chunks of 10 seconds\n",
    "    signal_chunks = [signal[i:i + ten_sec_samples] for i in range(0, len(signal), ten_sec_samples)]\n",
    "    \n",
    "    return signal_chunks"
   ]
  },
  {
   "cell_type": "code",
   "execution_count": 28,
   "metadata": {},
   "outputs": [],
   "source": [
    "def extract_train_out_signal_chunks(signal, sampling_rate):\n",
    "    '''\n",
    "    Returns: The first 10-second signal and last 30-second signal which\n",
    "                sliced by 10 seconds\n",
    "    '''\n",
    "    # Calculate the number of samples corresponding to 10 seconds\n",
    "    ten_sec_samples = 10 * sampling_rate\n",
    "    \n",
    "    # Calculate the number of samples corresponding to 30 seconds\n",
    "    thirty_sec_samples = 30 * sampling_rate\n",
    "    \n",
    "    # Get the first 10 seconds of the signal\n",
    "    first_10_sec = signal[:ten_sec_samples]\n",
    "    \n",
    "    # Get the last 30 seconds of the signal\n",
    "    last_30_sec = signal[-thirty_sec_samples:]\n",
    "    \n",
    "    # Split the last 30 seconds into chunks of 10 seconds\n",
    "    chunks_last_30_sec = slice_signal_by_10_seconds(last_30_sec, sampling_rate)\n",
    "    \n",
    "    return first_10_sec, chunks_last_30_sec"
   ]
  }
 ],
 "metadata": {
  "kernelspec": {
   "display_name": "Python 3",
   "language": "python",
   "name": "python3"
  },
  "language_info": {
   "codemirror_mode": {
    "name": "ipython",
    "version": 3
   },
   "file_extension": ".py",
   "mimetype": "text/x-python",
   "name": "python",
   "nbconvert_exporter": "python",
   "pygments_lexer": "ipython3",
   "version": "3.10.12"
  }
 },
 "nbformat": 4,
 "nbformat_minor": 2
}
