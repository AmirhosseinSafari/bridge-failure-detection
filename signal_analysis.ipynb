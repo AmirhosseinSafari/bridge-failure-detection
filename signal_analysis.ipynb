{
 "cells": [
  {
   "cell_type": "markdown",
   "metadata": {},
   "source": [
    "# Imports"
   ]
  },
  {
   "cell_type": "code",
   "execution_count": 1,
   "metadata": {},
   "outputs": [
    {
     "name": "stderr",
     "output_type": "stream",
     "text": [
      "/home/amirhossein/.local/lib/python3.10/site-packages/matplotlib/projections/__init__.py:63: UserWarning: Unable to import Axes3D. This may be due to multiple versions of Matplotlib being installed (e.g. as a system package and as a pip package). As a result, the 3D projection is not available.\n",
      "  warnings.warn(\"Unable to import Axes3D. This may be due to multiple versions of \"\n"
     ]
    }
   ],
   "source": [
    "# Imports\n",
    "import pandas as pd\n",
    "import seaborn as sns\n",
    "import numpy as np\n",
    "import matplotlib.pyplot as plt\n",
    "import os\n",
    "import pywt"
   ]
  },
  {
   "cell_type": "code",
   "execution_count": 2,
   "metadata": {},
   "outputs": [],
   "source": [
    "from IPython.display import clear_output"
   ]
  },
  {
   "cell_type": "markdown",
   "metadata": {},
   "source": [
    "# Getting csv files"
   ]
  },
  {
   "cell_type": "code",
   "execution_count": 3,
   "metadata": {},
   "outputs": [
    {
     "data": {
      "text/plain": [
       "['5_When_rebuilding.csv',\n",
       " '1_After_reconstruction.csv',\n",
       " '1_When_rebuilding.csv',\n",
       " '2_Before_renovation.csv',\n",
       " '6_After_reconstruction.csv',\n",
       " '2_When_rebuilding.csv',\n",
       " '4_Before_renovation.csv',\n",
       " '5_After_reconstruction.csv',\n",
       " '3_When_rebuilding.csv',\n",
       " '3_After_reconstruction.csv',\n",
       " '6_Before_renovation.csv',\n",
       " '4_After_reconstruction.csv',\n",
       " '1_Before_renovation.csv',\n",
       " '3_Before_renovation.csv',\n",
       " '6_When_rebuilding.csv',\n",
       " '2_After_reconstruction.csv',\n",
       " '5_Before_renovation.csv',\n",
       " '4_When_rebuilding.csv']"
      ]
     },
     "execution_count": 3,
     "metadata": {},
     "output_type": "execute_result"
    }
   ],
   "source": [
    "# Geting csv files\n",
    "list_of_files = os.listdir(\"./\")\n",
    "csv_files = []\n",
    "\n",
    "for _file in list_of_files:\n",
    "    if _file.endswith(\".csv\"):\n",
    "        csv_files.append(_file)\n",
    "\n",
    "csv_files"
   ]
  },
  {
   "cell_type": "markdown",
   "metadata": {},
   "source": [
    "# Functions"
   ]
  },
  {
   "cell_type": "code",
   "execution_count": 4,
   "metadata": {},
   "outputs": [],
   "source": [
    "def slice_signal_by_10_seconds(signal, sampling_rate):\n",
    "    # Calculate the number of samples corresponding to 10 seconds\n",
    "    ten_sec_samples = 10 * sampling_rate\n",
    "    \n",
    "    # Slice the signal into chunks of 10 seconds\n",
    "    signal_chunks = [signal[i:i + ten_sec_samples] for i in range(0, len(signal), ten_sec_samples)]\n",
    "    \n",
    "    return signal_chunks"
   ]
  },
  {
   "cell_type": "code",
   "execution_count": 5,
   "metadata": {},
   "outputs": [],
   "source": [
    "def extract_train_out_signal_chunks(signal, sampling_rate):\n",
    "    '''\n",
    "    Returns: The first 10-second signal and last 30-second signal which\n",
    "                sliced by 10 seconds\n",
    "    '''\n",
    "    # Calculate the number of samples corresponding to 10 seconds\n",
    "    ten_sec_samples = 10 * sampling_rate\n",
    "    \n",
    "    # Calculate the number of samples corresponding to 30 seconds\n",
    "    thirty_sec_samples = 30 * sampling_rate\n",
    "    \n",
    "    # Get the first 10 seconds of the signal\n",
    "    first_10_sec = signal[:ten_sec_samples]\n",
    "    \n",
    "    # Get the last 30 seconds of the signal\n",
    "    last_30_sec = signal[-thirty_sec_samples:]\n",
    "    \n",
    "    # Split the last 30 seconds into chunks of 10 seconds\n",
    "    chunks_last_30_sec = slice_signal_by_10_seconds(last_30_sec, sampling_rate)\n",
    "    \n",
    "    return first_10_sec, chunks_last_30_sec"
   ]
  },
  {
   "cell_type": "code",
   "execution_count": 6,
   "metadata": {},
   "outputs": [],
   "source": [
    "def dir_creator(csv_file_name):\n",
    "    '''\n",
    "    Creating directoies for each column of csv files\n",
    "        to save heatmaps into them\n",
    "    '''\n",
    "    sensor_number = csv_file_name.split('_')[0]\n",
    "    file_name = csv_file_name.split('.')[0]\n",
    "\n",
    "    # Define the sensor directory name\n",
    "    sensor_dir = f\"sensor_{sensor_number}\"\n",
    "\n",
    "    if not os.path.exists(sensor_dir):\n",
    "        os.mkdir(sensor_dir)\n",
    "    \n",
    "    # Change directory to the sensor directory\n",
    "    os.chdir(sensor_dir)\n",
    "    \n",
    "    # Create the main directory for the current file\n",
    "    if not os.path.exists(file_name):\n",
    "        os.mkdir(file_name)\n",
    "        os.mkdir(f\"{file_name}/train_out\")\n",
    "        os.mkdir(f\"{file_name}/train_in\")\n",
    "\n",
    "    # Change back to the original directory\n",
    "    os.chdir(\"..\")"
   ]
  },
  {
   "cell_type": "code",
   "execution_count": 7,
   "metadata": {},
   "outputs": [],
   "source": [
    "def save_heatmap(csv_file_name, column, counter, train_status):\n",
    "    '''\n",
    "    Saving plots in png format in their specific path\n",
    "    '''\n",
    "    no_ext_csv_file_name = csv_file_name.split('.')[0]\n",
    "    sensor_number = csv_file_name.split('_')[0]\n",
    "    sensor_dir = f\"sensor_{sensor_number}\"\n",
    "    \n",
    "    path = f\"{sensor_dir}/{no_ext_csv_file_name}/{train_status}/{sensor_number}_{no_ext_csv_file_name}_{column}_{counter}.png\"\n",
    "    plt.savefig(path , bbox_inches='tight', pad_inches=0)"
   ]
  },
  {
   "cell_type": "code",
   "execution_count": 9,
   "metadata": {},
   "outputs": [],
   "source": [
    "def signal_to_heatmap(signal):\n",
    "    '''\n",
    "    Returns the heatmap of signal\n",
    "    ToDo: may have to change the size of images\n",
    "    '''\n",
    "    # Desired size in pixels\n",
    "    width_px = 50\n",
    "    height_px = 50\n",
    "\n",
    "    # DPI (dots per inch)\n",
    "    dpi = 80\n",
    "\n",
    "    # Convert to inches\n",
    "    width_in = width_px / dpi\n",
    "    height_in = height_px / dpi\n",
    "\n",
    "    # Set the size of the heatmap\n",
    "    fig = plt.figure(figsize=(width_in, height_in), dpi=dpi)\n",
    "    ax = fig.add_subplot()\n",
    "    ax.axis('off')\n",
    "    \n",
    "    sns.heatmap(signal, xticklabels=False, yticklabels=False, cbar=False)"
   ]
  },
  {
   "cell_type": "code",
   "execution_count": null,
   "metadata": {},
   "outputs": [],
   "source": [
    "def remove_five_zeros(arr):\n",
    "    \"\"\"Remove sequences of 5 successive zeros from an array.\"\"\"\n",
    "    result = []\n",
    "    zero_count = 0\n",
    "\n",
    "    for i in range(len(arr)):\n",
    "        if arr[i] == 0:\n",
    "            zero_count += 1\n",
    "        else:\n",
    "            if zero_count == 5:\n",
    "                result = result[:-5]  # Remove the last 5 zeros from the result\n",
    "            zero_count = 0\n",
    "            result.append(arr[i])\n",
    "        \n",
    "        # If we've reached the end and have exactly 5 zeros at the end\n",
    "        if i == len(arr) - 1 and zero_count == 5:\n",
    "            result = result[:-5]\n",
    "    \n",
    "    return np.array(result)"
   ]
  }
 ],
 "metadata": {
  "kernelspec": {
   "display_name": "Python 3",
   "language": "python",
   "name": "python3"
  },
  "language_info": {
   "codemirror_mode": {
    "name": "ipython",
    "version": 3
   },
   "file_extension": ".py",
   "mimetype": "text/x-python",
   "name": "python",
   "nbconvert_exporter": "python",
   "pygments_lexer": "ipython3",
   "version": "3.10.12"
  }
 },
 "nbformat": 4,
 "nbformat_minor": 2
}
