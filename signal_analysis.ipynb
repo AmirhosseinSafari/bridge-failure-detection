{
 "cells": [
  {
   "cell_type": "markdown",
   "metadata": {},
   "source": [
    "# Imports"
   ]
  },
  {
   "cell_type": "code",
   "execution_count": null,
   "metadata": {},
   "outputs": [],
   "source": [
    "# Imports\n",
    "import pandas as pd\n",
    "import seaborn as sns\n",
    "import numpy as np\n",
    "import matplotlib.pyplot as plt\n",
    "import os\n",
    "import pywt"
   ]
  },
  {
   "cell_type": "code",
   "execution_count": 18,
   "metadata": {},
   "outputs": [],
   "source": [
    "from IPython.display import clear_output"
   ]
  },
  {
   "cell_type": "markdown",
   "metadata": {},
   "source": [
    "# Getting csv files"
   ]
  },
  {
   "cell_type": "code",
   "execution_count": 23,
   "metadata": {},
   "outputs": [
    {
     "data": {
      "text/plain": [
       "['5_When_rebuilding.csv',\n",
       " '1_After_reconstruction.csv',\n",
       " '1_When_rebuilding.csv',\n",
       " '2_Before_renovation.csv',\n",
       " '6_After_reconstruction.csv',\n",
       " '2_When_rebuilding.csv',\n",
       " '4_Before_renovation.csv',\n",
       " '5_After_reconstruction.csv',\n",
       " '3_When_rebuilding.csv',\n",
       " '3_After_reconstruction.csv',\n",
       " '6_Before_renovation.csv',\n",
       " '4_After_reconstruction.csv',\n",
       " '1_Before_renovation.csv',\n",
       " '3_Before_renovation.csv',\n",
       " '6_When_rebuilding.csv',\n",
       " '2_After_reconstruction.csv',\n",
       " '5_Before_renovation.csv',\n",
       " '4_When_rebuilding.csv']"
      ]
     },
     "execution_count": 23,
     "metadata": {},
     "output_type": "execute_result"
    }
   ],
   "source": [
    "# Geting csv files\n",
    "list_of_files = os.listdir(\"./\")\n",
    "csv_files = []\n",
    "\n",
    "for _file in list_of_files:\n",
    "    if _file.endswith(\".csv\"):\n",
    "        csv_files.append(_file)\n",
    "\n",
    "csv_files"
   ]
  }
 ],
 "metadata": {
  "kernelspec": {
   "display_name": "Python 3",
   "language": "python",
   "name": "python3"
  },
  "language_info": {
   "codemirror_mode": {
    "name": "ipython",
    "version": 3
   },
   "file_extension": ".py",
   "mimetype": "text/x-python",
   "name": "python",
   "nbconvert_exporter": "python",
   "pygments_lexer": "ipython3",
   "version": "3.10.12"
  }
 },
 "nbformat": 4,
 "nbformat_minor": 2
}
