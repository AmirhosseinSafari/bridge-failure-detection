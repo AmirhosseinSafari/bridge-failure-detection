{
 "cells": [
  {
   "cell_type": "markdown",
   "metadata": {},
   "source": [
    "# Imports"
   ]
  },
  {
   "cell_type": "code",
   "execution_count": 25,
   "metadata": {},
   "outputs": [],
   "source": [
    "import pandas as pd\n",
    "import seaborn as sns\n",
    "import numpy as np\n",
    "import matplotlib.pyplot as plt\n",
    "import os\n",
    "import pywt"
   ]
  },
  {
   "cell_type": "code",
   "execution_count": 26,
   "metadata": {},
   "outputs": [],
   "source": [
    "from IPython.display import clear_output"
   ]
  },
  {
   "cell_type": "markdown",
   "metadata": {},
   "source": [
    "# Getting csv files"
   ]
  },
  {
   "cell_type": "code",
   "execution_count": 27,
   "metadata": {},
   "outputs": [
    {
     "data": {
      "text/plain": [
       "['5_When_rebuilding.csv',\n",
       " '1_After_reconstruction.csv',\n",
       " '1_When_rebuilding.csv',\n",
       " '2_Before_renovation.csv',\n",
       " '6_After_reconstruction.csv',\n",
       " '2_When_rebuilding.csv',\n",
       " '4_Before_renovation.csv',\n",
       " '5_After_reconstruction.csv',\n",
       " '3_When_rebuilding.csv',\n",
       " '3_After_reconstruction.csv',\n",
       " '6_Before_renovation.csv',\n",
       " '4_After_reconstruction.csv',\n",
       " '1_Before_renovation.csv',\n",
       " '3_Before_renovation.csv',\n",
       " '6_When_rebuilding.csv',\n",
       " '2_After_reconstruction.csv',\n",
       " '5_Before_renovation.csv',\n",
       " '4_When_rebuilding.csv']"
      ]
     },
     "execution_count": 27,
     "metadata": {},
     "output_type": "execute_result"
    }
   ],
   "source": [
    "# Geting csv files\n",
    "list_of_files = os.listdir(\"./\")\n",
    "csv_files = []\n",
    "\n",
    "for _file in list_of_files:\n",
    "    if _file.endswith(\".csv\"):\n",
    "        csv_files.append(_file)\n",
    "\n",
    "csv_files"
   ]
  },
  {
   "cell_type": "markdown",
   "metadata": {},
   "source": [
    "# Functions"
   ]
  },
  {
   "cell_type": "code",
   "execution_count": 28,
   "metadata": {},
   "outputs": [],
   "source": [
    "def custom_slicer(signal, fs=825.8):\n",
    "    '''\n",
    "    Returns: first 10 seconds\n",
    "             last 30 seconds of the signal\n",
    "    '''\n",
    "\n",
    "    return signal[:int(fs * 10)], signal[int(-30 * fs):]"
   ]
  },
  {
   "cell_type": "code",
   "execution_count": 29,
   "metadata": {},
   "outputs": [],
   "source": [
    "def slicer(signal, fs=825.8, chunk_size_seconds=10):\n",
    "    '''\n",
    "    Returns: sliced signal in desired seconds chunks\n",
    "    Note: size of the signal should be a true nominator of chunk size\n",
    "    '''\n",
    "    chunk_size = int(fs * chunk_size_seconds)\n",
    "    return [signal[_ * chunk_size : (_+1)*chunk_size ] for _ in range(int(len(signal)/chunk_size))]"
   ]
  },
  {
   "cell_type": "code",
   "execution_count": 30,
   "metadata": {},
   "outputs": [],
   "source": [
    "def dir_creator(csv_file_name):\n",
    "    '''\n",
    "    Creating directoies for each column of csv files\n",
    "        to save heatmaps into them\n",
    "    '''\n",
    "    sensor_number = csv_file_name.split('_')[0]\n",
    "    file_name = csv_file_name.split('.')[0]\n",
    "\n",
    "    # Define the sensor directory name\n",
    "    sensor_dir = f\"sensor_{sensor_number}\"\n",
    "\n",
    "    if not os.path.exists(sensor_dir):\n",
    "        os.mkdir(sensor_dir)\n",
    "    \n",
    "    # Change directory to the sensor directory\n",
    "    os.chdir(sensor_dir)\n",
    "    \n",
    "    # Create the main directory for the current file\n",
    "    if not os.path.exists(file_name):\n",
    "        os.mkdir(file_name)\n",
    "        os.mkdir(f\"{file_name}/train_out\")\n",
    "        os.mkdir(f\"{file_name}/train_in\")\n",
    "\n",
    "    # Change back to the original directory\n",
    "    os.chdir(\"..\")"
   ]
  },
  {
   "cell_type": "code",
   "execution_count": 31,
   "metadata": {},
   "outputs": [],
   "source": [
    "def save_heatmap(csv_file_name, column, counter, train_status):\n",
    "    '''\n",
    "    Saving plots in png format in their specific path\n",
    "    '''\n",
    "    no_ext_csv_file_name = csv_file_name.split('.')[0]\n",
    "    sensor_number = csv_file_name.split('_')[0]\n",
    "    sensor_dir = f\"sensor_{sensor_number}\"\n",
    "    \n",
    "    path = f\"{sensor_dir}/{no_ext_csv_file_name}/{train_status}/{sensor_number}_{no_ext_csv_file_name}_{column}_{counter}.png\"\n",
    "    plt.savefig(path , bbox_inches='tight', pad_inches=0)"
   ]
  },
  {
   "cell_type": "code",
   "execution_count": 44,
   "metadata": {},
   "outputs": [],
   "source": [
    "def signal_to_heatmap(signal):\n",
    "    '''\n",
    "    Returns the heatmap of signal\n",
    "    '''\n",
    "    # Desired size in pixels\n",
    "    width_px = 50\n",
    "    height_px = 50\n",
    "\n",
    "    # DPI (dots per inch)\n",
    "    dpi = 80\n",
    "\n",
    "    # Convert to inches\n",
    "    width_in = width_px / dpi\n",
    "    height_in = height_px / dpi\n",
    "\n",
    "    # Set the size of the heatmap\n",
    "    fig = plt.figure(figsize=(width_in, height_in), dpi=dpi)\n",
    "    ax = fig.add_subplot()\n",
    "    ax.axis('off')\n",
    "    \n",
    "    sns.heatmap(signal, xticklabels=False, yticklabels=False, cbar=False)"
   ]
  },
  {
   "cell_type": "code",
   "execution_count": 33,
   "metadata": {},
   "outputs": [],
   "source": [
    "# def signal_to_heatmap(coefficients, frequencies):\n",
    "#     '''\n",
    "#     Returns the heatmap of signal\n",
    "#     '''\n",
    "#     # power = (abs(coefficients)) ** 2\n",
    "#     power = coefficients\n",
    "#     period = 1. / frequencies\n",
    "    \n",
    "#     # Setting contourlevels automatically in \"10\" different color range\n",
    "#     # max_power = np.log2(power.max())\n",
    "#     # min_power = np.log2(power.min())\n",
    "#     max_power = power.max()\n",
    "#     min_power = power.min()\n",
    "\n",
    "#     # levels = [0.0625, 0.125, 0.25, 0.5, 1, 2, 4, 8]\n",
    "#     # contourlevels = np.log2(levels)\n",
    "    \n",
    "#     contourlevels = np.linspace(min_power, max_power, num=30)\n",
    "\n",
    "#     fs = 825.8\n",
    "     \n",
    "#     # Generate a time array based on the length of the signal or coefficients\n",
    "#     time = np.linspace(0, len(coefficients[0]) / fs, num=len(coefficients[0]))\n",
    "#     cmap = plt.cm.seismic\n",
    "\n",
    "#     # Desired size in pixels\n",
    "#     width_px = 600\n",
    "#     height_px = 600\n",
    "\n",
    "#     # DPI (dots per inch)\n",
    "#     dpi = 300\n",
    "\n",
    "#     # Convert to inches\n",
    "#     width_in = width_px / dpi\n",
    "#     height_in = height_px / dpi\n",
    "    \n",
    "#     # Set the size of the heatmap\n",
    "#     fig, ax = plt.subplots(figsize=(width_in, height_in), dpi=dpi)\n",
    "#     # im = ax.contourf(time, np.log2(period), np.log2(power), contourlevels, extend='both',cmap=cmap)\n",
    "#     im = ax.contourf(time, period, power, contourlevels, extend='both',cmap=cmap)\n",
    "    \n",
    "#     # yticks = np.arange(np.ceil(period.min()), np.ceil(period.max()))\n",
    "#     yticks = np.linspace(period.min(), period.max(), num=10)\n",
    "\n",
    "#     ax.set_yticks(yticks)\n",
    "#     # ax.set_yticklabels(yticks)\n",
    "#     ax.set_yticklabels(np.round(yticks, 2))\n",
    "#     ax.invert_yaxis()\n",
    "#     ylim = ax.get_ylim()\n",
    "#     ax.set_ylim(ylim[0], ylim[1])\n",
    "\n",
    "#     plt.show()"
   ]
  },
  {
   "cell_type": "code",
   "execution_count": 34,
   "metadata": {},
   "outputs": [],
   "source": [
    "def remove_five_zeros(arr):\n",
    "    \"\"\"Remove sequences of 5 successive zeros from an array.\"\"\"\n",
    "    result = []\n",
    "    zero_count = 0\n",
    "\n",
    "    for i in range(len(arr)):\n",
    "        if arr[i] == 0:\n",
    "            zero_count += 1\n",
    "        else:\n",
    "            if zero_count == 5:\n",
    "                result = result[:-5]  # Remove the last 5 zeros from the result\n",
    "            zero_count = 0\n",
    "            result.append(arr[i])\n",
    "        \n",
    "        # If we've reached the end and have exactly 5 zeros at the end\n",
    "        if i == len(arr) - 1 and zero_count == 5:\n",
    "            result = result[:-5]\n",
    "    \n",
    "    return np.array(result)"
   ]
  },
  {
   "cell_type": "code",
   "execution_count": 35,
   "metadata": {},
   "outputs": [],
   "source": [
    "def continuous_wavelet_transform(signal, fs, min_freq, max_freq, wavelet_name='morl'):\n",
    "    \"\"\"\n",
    "    Perform Continuous Wavelet Transform on a given signal with specified frequency range.\n",
    "    return: (coefficients, frequencies) tuple\n",
    "             - coefficients: 2D array of CWT coefficients\n",
    "             - frequencies: Corresponding frequencies for the scales\n",
    "    \"\"\"\n",
    "    # Center frequency of the Morlet wavelet\n",
    "    center_freq = pywt.central_frequency(wavelet_name)\n",
    "    \n",
    "    # Calculate scales based on desired frequency range\n",
    "    min_scale = center_freq * fs / max_freq\n",
    "    max_scale = center_freq * fs / min_freq\n",
    "    scales = np.arange(min_scale, max_scale)\n",
    "    \n",
    "    # Perform the Continuous Wavelet Transform\n",
    "    coefficients, frequencies = pywt.cwt(signal, scales, wavelet_name, sampling_period=1/fs)\n",
    "    \n",
    "    return coefficients, frequencies"
   ]
  },
  {
   "cell_type": "markdown",
   "metadata": {},
   "source": [
    "# Setting min and max frequency"
   ]
  },
  {
   "cell_type": "code",
   "execution_count": 36,
   "metadata": {},
   "outputs": [],
   "source": [
    "# Initializing fs\n",
    "fs=825.8"
   ]
  },
  {
   "cell_type": "code",
   "execution_count": 37,
   "metadata": {},
   "outputs": [],
   "source": [
    "# Reading files\n",
    "df = pd.read_csv(\"./1_After_reconstruction.csv\")\n",
    "\n",
    "# Nan to zero\n",
    "df = df.fillna(0)\n",
    "    \n",
    "# Loading each column of df into dict\n",
    "columns_dict = {}\n",
    "for col in df.columns:\n",
    "    columns_dict[col] = df[col].to_numpy()\n",
    "# Removing first incremental column\n",
    "columns_dict.pop('Unnamed: 0')\n",
    "\n",
    "# Removing 5 successive zeros\n",
    "signal = remove_five_zeros(columns_dict['201'])"
   ]
  },
  {
   "cell_type": "code",
   "execution_count": 38,
   "metadata": {},
   "outputs": [],
   "source": [
    "# Perform Fourier Transform to analyze frequency content\n",
    "frequencies = np.fft.fftfreq(len(signal), d=1/fs)\n",
    "fft_magnitude = np.abs(np.fft.fft(signal))"
   ]
  },
  {
   "cell_type": "code",
   "execution_count": 39,
   "metadata": {},
   "outputs": [
    {
     "data": {
      "image/png": "[encoded data removed]",
      "text/plain": [
       "<Figure size 432x288 with 1 Axes>"
      ]
     },
     "metadata": {
      "needs_background": "light"
     },
     "output_type": "display_data"
    }
   ],
   "source": [
    "# Plot the Fourier Transform\n",
    "plt.figure()\n",
    "plt.plot(frequencies[:len(frequencies)//2], fft_magnitude[:len(frequencies)//2])\n",
    "plt.title(\"Frequency content of the signal\")\n",
    "plt.xlabel(\"Frequency (Hz)\")\n",
    "plt.ylabel(\"Magnitude\")\n",
    "plt.show()"
   ]
  },
  {
   "cell_type": "code",
   "execution_count": 40,
   "metadata": {},
   "outputs": [],
   "source": [
    "min_freq = 1\n",
    "max_freq = 400"
   ]
  },
  {
   "cell_type": "markdown",
   "metadata": {},
   "source": [
    "# Creating heatmaps of CWT signals"
   ]
  },
  {
   "cell_type": "code",
   "execution_count": 41,
   "metadata": {},
   "outputs": [],
   "source": [
    "wavelet_name='morl'"
   ]
  },
  {
   "cell_type": "code",
   "execution_count": 42,
   "metadata": {},
   "outputs": [],
   "source": [
    "information = {}\n",
    "number_of_each_class_images = {\n",
    "    \"After\" : 0,\n",
    "    \"When\": 0,\n",
    "    \"Before\": 0\n",
    "}"
   ]
  },
  {
   "cell_type": "code",
   "execution_count": 43,
   "metadata": {},
   "outputs": [
    {
     "name": "stdout",
     "output_type": "stream",
     "text": [
      "Processing: 5_When_rebuilding.csv:\t Column 0\n",
      "\t\t. Removing 5 successive zeros\n",
      "\t\t. Number of images when train is in: 2\n",
      "\t\t. Calculating CWT transform and heatmap creation\n"
     ]
    },
    {
     "ename": "KeyboardInterrupt",
     "evalue": "",
     "output_type": "error",
     "traceback": [
      "\u001b[0;31m---------------------------------------------------------------------------\u001b[0m",
      "\u001b[0;31mKeyboardInterrupt\u001b[0m                         Traceback (most recent call last)",
      "\u001b[0;32m/tmp/ipykernel_8394/3629998704.py\u001b[0m in \u001b[0;36m<module>\u001b[0;34m\u001b[0m\n\u001b[1;32m     54\u001b[0m \u001b[0;34m\u001b[0m\u001b[0m\n\u001b[1;32m     55\u001b[0m         \u001b[0;32mfor\u001b[0m \u001b[0msig_chunk\u001b[0m \u001b[0;32min\u001b[0m \u001b[0mlast_30_signals_chunked\u001b[0m\u001b[0;34m:\u001b[0m\u001b[0;34m\u001b[0m\u001b[0;34m\u001b[0m\u001b[0m\n\u001b[0;32m---> 56\u001b[0;31m             \u001b[0mcoefficients\u001b[0m\u001b[0;34m,\u001b[0m \u001b[0mfrequencies\u001b[0m \u001b[0;34m=\u001b[0m \u001b[0mcontinuous_wavelet_transform\u001b[0m\u001b[0;34m(\u001b[0m\u001b[0msig_chunk\u001b[0m\u001b[0;34m,\u001b[0m \u001b[0mfs\u001b[0m\u001b[0;34m,\u001b[0m \u001b[0mmin_freq\u001b[0m\u001b[0;34m,\u001b[0m \u001b[0mmax_freq\u001b[0m\u001b[0;34m,\u001b[0m \u001b[0mwavelet_name\u001b[0m\u001b[0;34m)\u001b[0m\u001b[0;34m\u001b[0m\u001b[0;34m\u001b[0m\u001b[0m\n\u001b[0m\u001b[1;32m     57\u001b[0m             \u001b[0msignal_to_heatmap\u001b[0m\u001b[0;34m(\u001b[0m\u001b[0mcoefficients\u001b[0m\u001b[0;34m)\u001b[0m\u001b[0;34m\u001b[0m\u001b[0;34m\u001b[0m\u001b[0m\n\u001b[1;32m     58\u001b[0m             \u001b[0msave_heatmap\u001b[0m\u001b[0;34m(\u001b[0m\u001b[0mcsv_file\u001b[0m\u001b[0;34m,\u001b[0m \u001b[0mcol\u001b[0m\u001b[0;34m,\u001b[0m \u001b[0mheatmaps_counter\u001b[0m\u001b[0;34m,\u001b[0m \u001b[0;34m\"train_out\"\u001b[0m\u001b[0;34m)\u001b[0m\u001b[0;34m\u001b[0m\u001b[0;34m\u001b[0m\u001b[0m\n",
      "\u001b[0;32m/tmp/ipykernel_8394/436718272.py\u001b[0m in \u001b[0;36mcontinuous_wavelet_transform\u001b[0;34m(signal, fs, min_freq, max_freq, wavelet_name)\u001b[0m\n\u001b[1;32m     15\u001b[0m \u001b[0;34m\u001b[0m\u001b[0m\n\u001b[1;32m     16\u001b[0m     \u001b[0;31m# Perform the Continuous Wavelet Transform\u001b[0m\u001b[0;34m\u001b[0m\u001b[0;34m\u001b[0m\u001b[0m\n\u001b[0;32m---> 17\u001b[0;31m     \u001b[0mcoefficients\u001b[0m\u001b[0;34m,\u001b[0m \u001b[0mfrequencies\u001b[0m \u001b[0;34m=\u001b[0m \u001b[0mpywt\u001b[0m\u001b[0;34m.\u001b[0m\u001b[0mcwt\u001b[0m\u001b[0;34m(\u001b[0m\u001b[0msignal\u001b[0m\u001b[0;34m,\u001b[0m \u001b[0mscales\u001b[0m\u001b[0;34m,\u001b[0m \u001b[0mwavelet_name\u001b[0m\u001b[0;34m,\u001b[0m \u001b[0msampling_period\u001b[0m\u001b[0;34m=\u001b[0m\u001b[0;36m1\u001b[0m\u001b[0;34m/\u001b[0m\u001b[0mfs\u001b[0m\u001b[0;34m)\u001b[0m\u001b[0;34m\u001b[0m\u001b[0;34m\u001b[0m\u001b[0m\n\u001b[0m\u001b[1;32m     18\u001b[0m \u001b[0;34m\u001b[0m\u001b[0m\n\u001b[1;32m     19\u001b[0m     \u001b[0;32mreturn\u001b[0m \u001b[0mcoefficients\u001b[0m\u001b[0;34m,\u001b[0m \u001b[0mfrequencies\u001b[0m\u001b[0;34m\u001b[0m\u001b[0;34m\u001b[0m\u001b[0m\n",
      "\u001b[0;32m/usr/local/lib/python3.10/dist-packages/pywt/_cwt.py\u001b[0m in \u001b[0;36mcwt\u001b[0;34m(data, scales, wavelet, sampling_period, method, axis)\u001b[0m\n\u001b[1;32m    163\u001b[0m         \u001b[0;32mif\u001b[0m \u001b[0mmethod\u001b[0m \u001b[0;34m==\u001b[0m \u001b[0;34m'conv'\u001b[0m\u001b[0;34m:\u001b[0m\u001b[0;34m\u001b[0m\u001b[0;34m\u001b[0m\u001b[0m\n\u001b[1;32m    164\u001b[0m             \u001b[0;32mif\u001b[0m \u001b[0mdata\u001b[0m\u001b[0;34m.\u001b[0m\u001b[0mndim\u001b[0m \u001b[0;34m==\u001b[0m \u001b[0;36m1\u001b[0m\u001b[0;34m:\u001b[0m\u001b[0;34m\u001b[0m\u001b[0;34m\u001b[0m\u001b[0m\n\u001b[0;32m--> 165\u001b[0;31m                 \u001b[0mconv\u001b[0m \u001b[0;34m=\u001b[0m \u001b[0mnp\u001b[0m\u001b[0;34m.\u001b[0m\u001b[0mconvolve\u001b[0m\u001b[0;34m(\u001b[0m\u001b[0mdata\u001b[0m\u001b[0;34m,\u001b[0m \u001b[0mint_psi_scale\u001b[0m\u001b[0;34m)\u001b[0m\u001b[0;34m\u001b[0m\u001b[0;34m\u001b[0m\u001b[0m\n\u001b[0m\u001b[1;32m    166\u001b[0m             \u001b[0;32melse\u001b[0m\u001b[0;34m:\u001b[0m\u001b[0;34m\u001b[0m\u001b[0;34m\u001b[0m\u001b[0m\n\u001b[1;32m    167\u001b[0m                 \u001b[0;31m# batch convolution via loop\u001b[0m\u001b[0;34m\u001b[0m\u001b[0;34m\u001b[0m\u001b[0m\n",
      "\u001b[0;32m~/.local/lib/python3.10/site-packages/numpy/core/numeric.py\u001b[0m in \u001b[0;36mconvolve\u001b[0;34m(a, v, mode)\u001b[0m\n\u001b[1;32m    832\u001b[0m     \u001b[0;32mif\u001b[0m \u001b[0mlen\u001b[0m\u001b[0;34m(\u001b[0m\u001b[0mv\u001b[0m\u001b[0;34m)\u001b[0m \u001b[0;34m==\u001b[0m \u001b[0;36m0\u001b[0m\u001b[0;34m:\u001b[0m\u001b[0;34m\u001b[0m\u001b[0;34m\u001b[0m\u001b[0m\n\u001b[1;32m    833\u001b[0m         \u001b[0;32mraise\u001b[0m \u001b[0mValueError\u001b[0m\u001b[0;34m(\u001b[0m\u001b[0;34m'v cannot be empty'\u001b[0m\u001b[0;34m)\u001b[0m\u001b[0;34m\u001b[0m\u001b[0;34m\u001b[0m\u001b[0m\n\u001b[0;32m--> 834\u001b[0;31m     \u001b[0;32mreturn\u001b[0m \u001b[0mmultiarray\u001b[0m\u001b[0;34m.\u001b[0m\u001b[0mcorrelate\u001b[0m\u001b[0;34m(\u001b[0m\u001b[0ma\u001b[0m\u001b[0;34m,\u001b[0m \u001b[0mv\u001b[0m\u001b[0;34m[\u001b[0m\u001b[0;34m:\u001b[0m\u001b[0;34m:\u001b[0m\u001b[0;34m-\u001b[0m\u001b[0;36m1\u001b[0m\u001b[0;34m]\u001b[0m\u001b[0;34m,\u001b[0m \u001b[0mmode\u001b[0m\u001b[0;34m)\u001b[0m\u001b[0;34m\u001b[0m\u001b[0;34m\u001b[0m\u001b[0m\n\u001b[0m\u001b[1;32m    835\u001b[0m \u001b[0;34m\u001b[0m\u001b[0m\n\u001b[1;32m    836\u001b[0m \u001b[0;34m\u001b[0m\u001b[0m\n",
      "\u001b[0;31mKeyboardInterrupt\u001b[0m: "
     ]
    },
    {
     "data": {
      "image/png": "[encoded data removed]",
      "text/plain": [
       "<Figure size 30x30 with 1 Axes>"
      ]
     },
     "metadata": {},
     "output_type": "display_data"
    }
   ],
   "source": [
    "# Reading and processing csv files\n",
    "for csv_file in csv_files:\n",
    "    # Reading files\n",
    "    df = pd.read_csv(csv_file)\n",
    "\n",
    "    # Nan to zero\n",
    "    df = df.fillna(0)\n",
    "    \n",
    "    # Loading each column of df into dict\n",
    "    columns_dict = {}\n",
    "    for col in df.columns:\n",
    "        columns_dict[col] = df[col].to_numpy()\n",
    "    # Removing first incremental column\n",
    "    columns_dict.pop('Unnamed: 0') \n",
    "\n",
    "    # Creating dirs\n",
    "    dir_creator(csv_file)\n",
    "\n",
    "    information[csv_file] = {}\n",
    "\n",
    "    for col in columns_dict.keys():\n",
    "        clear_output(wait=True)\n",
    "        heatmaps_counter = 1\n",
    "        information[csv_file][col] = {}\n",
    "        print(f\"Processing: {csv_file}:\\t Column {col}\")\n",
    "\n",
    "        # Removing 5 successive zeros\n",
    "        print(\"\\t\\t. \", end=\"\")\n",
    "        print(\"Removing 5 successive zeros\")\n",
    "        columns_dict[col] = remove_five_zeros(columns_dict[col])\n",
    "        \n",
    "        # Printing the amount of images when train is in (40 seconds is when train is out)\n",
    "        print(\"\\t\\t. \", end=\"\")\n",
    "        print(f\"Number of images when train is in: { int( (len(columns_dict[col]) // fs - 40) // 10 ) }\")\n",
    "        \n",
    "        # Recording information\n",
    "        information[csv_file][col][f\"Images count, train in\"] = int( (len(columns_dict[col]) // fs - 40) // 10 )\n",
    "        information[csv_file][col][f\"Images count, train out\"] = 4\n",
    "        information[csv_file][col][f\"Whole signal length in seconds\"] = int(len(columns_dict[col]) // fs)\n",
    "        class_name = csv_file.split('_')[1]\n",
    "        number_of_each_class_images[class_name] += 1\n",
    "\n",
    "        # handling train out part\n",
    "        first_10, last_30 = custom_slicer(columns_dict[col], fs)\n",
    "        last_30_signals_chunked = slicer(last_30)\n",
    "        \n",
    "        # Calculating CWT transform and heatmap creation\n",
    "        print(\"\\t\\t. \", end=\"\")\n",
    "        print(\"Calculating CWT transform and heatmap creation\")\n",
    "        coefficients, frequencies = continuous_wavelet_transform(first_10, fs, min_freq, max_freq, wavelet_name)\n",
    "        signal_to_heatmap(coefficients)\n",
    "        save_heatmap(csv_file, col, heatmaps_counter, \"train_out\")\n",
    "        heatmaps_counter += 1\n",
    "        \n",
    "        for sig_chunk in last_30_signals_chunked:\n",
    "            coefficients, frequencies = continuous_wavelet_transform(sig_chunk, fs, min_freq, max_freq, wavelet_name)\n",
    "            signal_to_heatmap(coefficients)\n",
    "            save_heatmap(csv_file, col, heatmaps_counter, \"train_out\")\n",
    "            heatmaps_counter += 1\n",
    "        \n",
    "        # handling train in part\n",
    "        train_in_sig_chunks = slicer(columns_dict[col][int(10*fs):int(-30*fs)])\n",
    "        for sig_chunk in train_in_sig_chunks:\n",
    "            coefficients, frequencies = continuous_wavelet_transform(sig_chunk, fs, min_freq, max_freq, wavelet_name)\n",
    "            signal_to_heatmap(coefficients)\n",
    "            save_heatmap(csv_file, col, heatmaps_counter, \"train_in\")\n",
    "            heatmaps_counter += 1"
   ]
  },
  {
   "cell_type": "code",
   "execution_count": null,
   "metadata": {},
   "outputs": [],
   "source": [
    "information"
   ]
  },
  {
   "cell_type": "code",
   "execution_count": null,
   "metadata": {},
   "outputs": [],
   "source": [
    "number_of_each_class_images"
   ]
  }
 ],
 "metadata": {
  "kernelspec": {
   "display_name": "Python 3",
   "language": "python",
   "name": "python3"
  },
  "language_info": {
   "codemirror_mode": {
    "name": "ipython",
    "version": 3
   },
   "file_extension": ".py",
   "mimetype": "text/x-python",
   "name": "python",
   "nbconvert_exporter": "python",
   "pygments_lexer": "ipython3",
   "version": "3.10.12"
  }
 },
 "nbformat": 4,
 "nbformat_minor": 2
}
